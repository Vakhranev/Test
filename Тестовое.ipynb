{
  "nbformat": 4,
  "nbformat_minor": 0,
  "metadata": {
    "colab": {
      "name": "Тестовое.ipynb",
      "provenance": [],
      "authorship_tag": "ABX9TyMadEMVlmmaGim4nT1cZpWS",
      "include_colab_link": true
    },
    "kernelspec": {
      "name": "python3",
      "display_name": "Python 3"
    }
  },
  "cells": [
    {
      "cell_type": "markdown",
      "metadata": {
        "id": "view-in-github",
        "colab_type": "text"
      },
      "source": [
        "<a href=\"https://colab.research.google.com/github/Vakhranev/Test/blob/master/%D0%A2%D0%B5%D1%81%D1%82%D0%BE%D0%B2%D0%BE%D0%B5.ipynb\" target=\"_parent\"><img src=\"https://colab.research.google.com/assets/colab-badge.svg\" alt=\"Open In Colab\"/></a>"
      ]
    },
    {
      "cell_type": "markdown",
      "metadata": {
        "id": "9zMCYJZo7AYx"
      },
      "source": [
        "Задача 1"
      ]
    },
    {
      "cell_type": "code",
      "metadata": {
        "id": "ST2V3RTk6-ct",
        "outputId": "754664f7-0c48-4e6d-caa7-1b38bcd0c6c7",
        "colab": {
          "base_uri": "https://localhost:8080/",
          "height": 85
        }
      },
      "source": [
        "FIO = input(\"Введите ФИО: \")\n",
        "FIO_elements = list(FIO.split())\n",
        "Surname = FIO_elements[0]\n",
        "Name = FIO_elements[1]\n",
        "Patronymic = FIO_elements[2]\n",
        "print(Surname)\n",
        "print(Name)\n",
        "print(Patronymic)"
      ],
      "execution_count": 9,
      "outputs": [
        {
          "output_type": "stream",
          "text": [
            "Введите ФИО: Вахранёв Антон Юрьевич\n",
            "Вахранёв\n",
            "Антон\n",
            "Юрьевич\n"
          ],
          "name": "stdout"
        }
      ]
    },
    {
      "cell_type": "code",
      "metadata": {
        "id": "hkr7224l_5G_",
        "outputId": "1f5c9aa5-bdd6-4bbb-ca41-63609d74397f",
        "colab": {
          "base_uri": "https://localhost:8080/",
          "height": 85
        }
      },
      "source": [
        "import re\n",
        "FIO = input(\"Введите ФИО: \")\n",
        "FIO_elements = list(re.findall(r'\\w+', FIO))\n",
        "Surname = FIO_elements[0]\n",
        "Name = FIO_elements[1]\n",
        "Patronymic = FIO_elements[2]\n",
        "print(Surname)\n",
        "print(Name)\n",
        "print(Patronymic)"
      ],
      "execution_count": 18,
      "outputs": [
        {
          "output_type": "stream",
          "text": [
            "Введите ФИО: Вахранёв Антон Юрьевич\n",
            "Вахранёв\n",
            "Антон\n",
            "Юрьевич\n"
          ],
          "name": "stdout"
        }
      ]
    },
    {
      "cell_type": "markdown",
      "metadata": {
        "id": "vqXQB5eTLgpg"
      },
      "source": [
        "Задача 2"
      ]
    },
    {
      "cell_type": "code",
      "metadata": {
        "id": "CVI_XdrpLjqD",
        "outputId": "73491e78-a07d-481c-a412-0cee5577897d",
        "colab": {
          "base_uri": "https://localhost:8080/",
          "height": 68
        }
      },
      "source": [
        "address_line = input(\"Введите индекс и адрес: \")\n",
        "address_line = address_line.strip()\n",
        "address_list = list(address_line)\n",
        "index_list = address_list[:6]\n",
        "index = ''.join(index_list)\n",
        "address_list = address_list[7:]\n",
        "address = ''.join(address_list)\n",
        "print(index)\n",
        "print(address)"
      ],
      "execution_count": 4,
      "outputs": [
        {
          "output_type": "stream",
          "text": [
            "Введите индекс и адрес:         123456 ул. Мира, д.8, кв.5\n",
            "123456\n",
            "ул. Мира, д.8, кв.5\n"
          ],
          "name": "stdout"
        }
      ]
    },
    {
      "cell_type": "code",
      "metadata": {
        "id": "29VOdcxRQHTE",
        "outputId": "fbda91f2-701a-4450-e47a-ca14219999ee",
        "colab": {
          "base_uri": "https://localhost:8080/",
          "height": 68
        }
      },
      "source": [
        "import re\n",
        "address_line = input(\"Введите индекс и адрес: \")\n",
        "address_list = list(re.findall(r'\\w+', address_line))\n",
        "index = address_list[0]\n",
        "address_list2 = list(re.findall(r'\\S+', address_line))\n",
        "address = address_list2[1:]\n",
        "address2 = ' '.join(address)\n",
        "print(index)\n",
        "print(address2)"
      ],
      "execution_count": 9,
      "outputs": [
        {
          "output_type": "stream",
          "text": [
            "Введите индекс и адрес:          123456 ул. Мира, д.8, кв.5\n",
            "123456\n",
            "ул. Мира, д.8, кв.5\n"
          ],
          "name": "stdout"
        }
      ]
    },
    {
      "cell_type": "markdown",
      "metadata": {
        "id": "Y29R33XOYaIF"
      },
      "source": [
        "задача 4"
      ]
    },
    {
      "cell_type": "code",
      "metadata": {
        "id": "qilkB8lzYbry"
      },
      "source": [
        "def minus_day(date):\n",
        "  month_list = ['04','06','09','11']\n",
        "  month_list2 = ['12','01','03','05','07','08','10']\n",
        "  date_list = []\n",
        "  zero_month = ['0']\n",
        "  date_elements = list(date.split('.'))\n",
        "\n",
        "  if date_elements[0] == '01' and date_elements[1] == '01':\n",
        "    date_elements[2] = int(date_elements[2]) - 1\n",
        "  \n",
        "  if date_elements[1] == '01':\n",
        "    date_elements[1] = 12\n",
        "    date_elements[1] = str(date_elements[1])\n",
        "  else:\n",
        "    date_elements[1] = int(date_elements[1]) - 1\n",
        "    date_elements[1] = str(date_elements[1])\n",
        "    if len(date_elements[1]) == 1:\n",
        "      zero_month.append(date_elements[1])\n",
        "      month = ''.join(zero_month)\n",
        "      date_elements[1] = month\n",
        "  \n",
        "  if date_elements[0] == '01' and date_elements[1] == '02':\n",
        "    if int(date_elements[2]) % 4 == 0:\n",
        "      date_elements[0] = 29\n",
        "    else:\n",
        "      date_elements[0] = 28\n",
        "  elif date_elements[0] == '01' and date_elements[1] in month_list:\n",
        "    date_elements[0] = 30\n",
        "  elif date_elements[0] == '01' and date_elements[1] in month_list2:\n",
        "    date_elements[0] = 31\n",
        "  else:\n",
        "    date_elements[0] = int(date_elements[0]) - 1\n",
        "  \n",
        "  for element in date_elements:\n",
        "    element = str(element)\n",
        "    date_list.append(element)\n",
        "  date = '.'.join(date_list)\n",
        "  return print(date)"
      ],
      "execution_count": 55,
      "outputs": []
    },
    {
      "cell_type": "code",
      "metadata": {
        "id": "9bCmS6xbgGHl",
        "outputId": "9ce094e6-d160-4aee-f3bd-ff9007666fd6",
        "colab": {
          "base_uri": "https://localhost:8080/",
          "height": 34
        }
      },
      "source": [
        "minus_day('01.03.2015')"
      ],
      "execution_count": 56,
      "outputs": [
        {
          "output_type": "stream",
          "text": [
            "28.02.2015\n"
          ],
          "name": "stdout"
        }
      ]
    }
  ]
}